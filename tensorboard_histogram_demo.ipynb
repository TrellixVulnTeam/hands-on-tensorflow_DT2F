{
 "cells": [
  {
   "cell_type": "markdown",
   "metadata": {},
   "source": [
    "# 1. Basic Histogram"
   ]
  },
  {
   "cell_type": "code",
   "execution_count": 3,
   "metadata": {},
   "outputs": [],
   "source": [
    "import tensorflow as tf\n",
    "import numpy as np\n",
    "import pandas as pd"
   ]
  },
  {
   "cell_type": "code",
   "execution_count": 4,
   "metadata": {
    "scrolled": false
   },
   "outputs": [],
   "source": [
    "graph1 = tf.Graph()\n",
    "with graph1.as_default():\n",
    "    sess = tf.InteractiveSession()\n",
    "    k = tf.placeholder(dtype=tf.float32)\n",
    "    mean_moving_normal = tf.random_normal(shape=[1000], mean=(5*k), stddev=1)\n",
    "    summary1 = tf.summary.histogram(\"normal/moving_mean\", mean_moving_normal)\n",
    "    merged = tf.summary.merge_all()\n",
    "    writer = tf.summary.FileWriter(\"./logs/histogram_example\")\n",
    "    tf.global_variables_initializer().run()\n",
    "    N = 10\n",
    "    for i in range(N):\n",
    "        k_val = i / float(N)\n",
    "        summary_str, _ = sess.run([merged, mean_moving_normal], feed_dict={k: k_val})\n",
    "        writer.add_summary(summary_str, global_step=i)"
   ]
  },
  {
   "cell_type": "markdown",
   "metadata": {},
   "source": [
    "# 2. Multimodal Distributions"
   ]
  },
  {
   "cell_type": "code",
   "execution_count": 5,
   "metadata": {},
   "outputs": [],
   "source": [
    "import tensorflow as tf\n",
    "\n",
    "graph2 = tf.Graph()\n",
    "with graph2.as_default():\n",
    "    k = tf.placeholder(tf.float32)\n",
    "\n",
    "    # Make a normal distribution, with a shifting mean\n",
    "    mean_moving_normal = tf.random_normal(shape=[1000], mean=(5*k), stddev=1)\n",
    "    # Record that distribution into a histogram summary\n",
    "    tf.summary.histogram(\"normal/moving_mean\", mean_moving_normal)\n",
    "\n",
    "    # Make a normal distribution with shrinking variance\n",
    "    variance_shrinking_normal = tf.random_normal(shape=[1000], mean=0, stddev=1-(k))\n",
    "    # Record that distribution too\n",
    "    tf.summary.histogram(\"normal/shrinking_variance\", variance_shrinking_normal)\n",
    "\n",
    "    # Let's combine both of those distributions into one dataset\n",
    "    normal_combined = tf.concat([mean_moving_normal, variance_shrinking_normal], 0)\n",
    "    # We add another histogram summary to record the combined distribution\n",
    "    tf.summary.histogram(\"normal/bimodal\", normal_combined)\n",
    "\n",
    "    # Add a gamma distribution\n",
    "    gamma = tf.random_gamma(shape=[1000], alpha=k)\n",
    "    tf.summary.histogram(\"gamma\", gamma)\n",
    "\n",
    "    # And a poisson distribution\n",
    "    poisson = tf.random_poisson(shape=[1000], lam=k)\n",
    "    tf.summary.histogram(\"poisson\", poisson)\n",
    "\n",
    "    # And a uniform distribution\n",
    "    uniform = tf.random_uniform(shape=[1000], maxval=k*10)\n",
    "    tf.summary.histogram(\"uniform\", uniform)\n",
    "\n",
    "    # Finally, combine everything together!\n",
    "    all_distributions = [mean_moving_normal, variance_shrinking_normal,\n",
    "                         gamma, poisson, uniform]\n",
    "    all_combined = tf.concat(all_distributions, 0)\n",
    "    tf.summary.histogram(\"all_combined\", all_combined)\n",
    "\n",
    "    summaries = tf.summary.merge_all()\n",
    "\n",
    "    # Setup a session and summary writer\n",
    "    sess = tf.Session()\n",
    "    writer = tf.summary.FileWriter(\"./logs/histogram_example\")\n",
    "\n",
    "    # Setup a loop and write the summaries to disk\n",
    "    N = 400\n",
    "    for step in range(N):\n",
    "      k_val = step/float(N)\n",
    "      summ = sess.run(summaries, feed_dict={k: k_val})\n",
    "      writer.add_summary(summ, global_step=step)"
   ]
  },
  {
   "cell_type": "code",
   "execution_count": null,
   "metadata": {
    "collapsed": true
   },
   "outputs": [],
   "source": []
  }
 ],
 "metadata": {
  "kernelspec": {
   "display_name": "Python 2",
   "language": "python",
   "name": "python2"
  },
  "language_info": {
   "codemirror_mode": {
    "name": "ipython",
    "version": 2
   },
   "file_extension": ".py",
   "mimetype": "text/x-python",
   "name": "python",
   "nbconvert_exporter": "python",
   "pygments_lexer": "ipython2",
   "version": "2.7.12"
  }
 },
 "nbformat": 4,
 "nbformat_minor": 2
}
