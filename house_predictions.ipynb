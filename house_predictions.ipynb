{
 "cells": [
  {
   "cell_type": "code",
   "execution_count": 3,
   "metadata": {
    "collapsed": true
   },
   "outputs": [],
   "source": [
    "import tensorflow as tf\n",
    "import numpy as np\n",
    "import pandas as pd\n",
    "tf.logging.set_verbosity(tf.logging.INFO)"
   ]
  },
  {
   "cell_type": "markdown",
   "metadata": {},
   "source": [
    "# 1. Preprocessing Data"
   ]
  },
  {
   "cell_type": "code",
   "execution_count": 4,
   "metadata": {
    "collapsed": true
   },
   "outputs": [],
   "source": [
    "COLUMNS = [\"crim\", \"zn\", \"indus\", \"nox\", \"rm\", \"age\",\n",
    "           \"dis\", \"tax\", \"ptratio\", \"medv\"]\n",
    "FEATURES = [\"crim\", \"zn\", \"indus\", \"nox\", \"rm\",\n",
    "            \"age\", \"dis\", \"tax\", \"ptratio\"]\n",
    "LABEL = \"medv\""
   ]
  },
  {
   "cell_type": "code",
   "execution_count": 6,
   "metadata": {},
   "outputs": [
    {
     "data": {
      "text/html": [
       "<div>\n",
       "<style>\n",
       "    .dataframe thead tr:only-child th {\n",
       "        text-align: right;\n",
       "    }\n",
       "\n",
       "    .dataframe thead th {\n",
       "        text-align: left;\n",
       "    }\n",
       "\n",
       "    .dataframe tbody tr th {\n",
       "        vertical-align: top;\n",
       "    }\n",
       "</style>\n",
       "<table border=\"1\" class=\"dataframe\">\n",
       "  <thead>\n",
       "    <tr style=\"text-align: right;\">\n",
       "      <th></th>\n",
       "      <th>crim</th>\n",
       "      <th>zn</th>\n",
       "      <th>indus</th>\n",
       "      <th>nox</th>\n",
       "      <th>rm</th>\n",
       "      <th>age</th>\n",
       "      <th>dis</th>\n",
       "      <th>tax</th>\n",
       "      <th>ptratio</th>\n",
       "      <th>medv</th>\n",
       "    </tr>\n",
       "  </thead>\n",
       "  <tbody>\n",
       "    <tr>\n",
       "      <th>0</th>\n",
       "      <td>2.30040</td>\n",
       "      <td>0.0</td>\n",
       "      <td>19.58</td>\n",
       "      <td>0.605</td>\n",
       "      <td>6.319</td>\n",
       "      <td>96.1</td>\n",
       "      <td>2.1000</td>\n",
       "      <td>403</td>\n",
       "      <td>14.7</td>\n",
       "      <td>23.8</td>\n",
       "    </tr>\n",
       "    <tr>\n",
       "      <th>1</th>\n",
       "      <td>13.35980</td>\n",
       "      <td>0.0</td>\n",
       "      <td>18.10</td>\n",
       "      <td>0.693</td>\n",
       "      <td>5.887</td>\n",
       "      <td>94.7</td>\n",
       "      <td>1.7821</td>\n",
       "      <td>666</td>\n",
       "      <td>20.2</td>\n",
       "      <td>12.7</td>\n",
       "    </tr>\n",
       "    <tr>\n",
       "      <th>2</th>\n",
       "      <td>0.12744</td>\n",
       "      <td>0.0</td>\n",
       "      <td>6.91</td>\n",
       "      <td>0.448</td>\n",
       "      <td>6.770</td>\n",
       "      <td>2.9</td>\n",
       "      <td>5.7209</td>\n",
       "      <td>233</td>\n",
       "      <td>17.9</td>\n",
       "      <td>26.6</td>\n",
       "    </tr>\n",
       "    <tr>\n",
       "      <th>3</th>\n",
       "      <td>0.15876</td>\n",
       "      <td>0.0</td>\n",
       "      <td>10.81</td>\n",
       "      <td>0.413</td>\n",
       "      <td>5.961</td>\n",
       "      <td>17.5</td>\n",
       "      <td>5.2873</td>\n",
       "      <td>305</td>\n",
       "      <td>19.2</td>\n",
       "      <td>21.7</td>\n",
       "    </tr>\n",
       "    <tr>\n",
       "      <th>4</th>\n",
       "      <td>0.03768</td>\n",
       "      <td>80.0</td>\n",
       "      <td>1.52</td>\n",
       "      <td>0.404</td>\n",
       "      <td>7.274</td>\n",
       "      <td>38.3</td>\n",
       "      <td>7.3090</td>\n",
       "      <td>329</td>\n",
       "      <td>12.6</td>\n",
       "      <td>34.6</td>\n",
       "    </tr>\n",
       "  </tbody>\n",
       "</table>\n",
       "</div>"
      ],
      "text/plain": [
       "       crim    zn  indus    nox     rm   age     dis  tax  ptratio  medv\n",
       "0   2.30040   0.0  19.58  0.605  6.319  96.1  2.1000  403     14.7  23.8\n",
       "1  13.35980   0.0  18.10  0.693  5.887  94.7  1.7821  666     20.2  12.7\n",
       "2   0.12744   0.0   6.91  0.448  6.770   2.9  5.7209  233     17.9  26.6\n",
       "3   0.15876   0.0  10.81  0.413  5.961  17.5  5.2873  305     19.2  21.7\n",
       "4   0.03768  80.0   1.52  0.404  7.274  38.3  7.3090  329     12.6  34.6"
      ]
     },
     "execution_count": 6,
     "metadata": {},
     "output_type": "execute_result"
    }
   ],
   "source": [
    "training_set = pd.read_csv(\"./datasets/boston/boston_train.csv\", skipinitialspace=True, skiprows=1, names=COLUMNS)\n",
    "test_set = pd.read_csv(\"./datasets/boston/boston_test.csv\", skipinitialspace=True, skiprows=1, names=COLUMNS)\n",
    "predict_set = pd.read_csv(\"./datasets/boston/boston_predict.csv\", skipinitialspace=True, skiprows=1, names=COLUMNS)\n",
    "training_set.head()"
   ]
  },
  {
   "cell_type": "code",
   "execution_count": 7,
   "metadata": {
    "collapsed": true
   },
   "outputs": [],
   "source": [
    "feature_cols = [tf.feature_column.numeric_column(k) for k in FEATURES]"
   ]
  },
  {
   "cell_type": "markdown",
   "metadata": {},
   "source": [
    "# 2. Train Data"
   ]
  },
  {
   "cell_type": "code",
   "execution_count": 8,
   "metadata": {},
   "outputs": [
    {
     "name": "stdout",
     "output_type": "stream",
     "text": [
      "INFO:tensorflow:Using default config.\n",
      "INFO:tensorflow:Using config: {'_save_checkpoints_secs': 600, '_session_config': None, '_keep_checkpoint_max': 5, '_task_type': 'worker', '_is_chief': True, '_cluster_spec': <tensorflow.python.training.server_lib.ClusterSpec object at 0x181f1b4910>, '_save_checkpoints_steps': None, '_keep_checkpoint_every_n_hours': 10000, '_service': None, '_num_ps_replicas': 0, '_tf_random_seed': None, '_master': '', '_num_worker_replicas': 1, '_task_id': 0, '_log_step_count_steps': 100, '_model_dir': '/tmp/tensorflow/boston', '_save_summary_steps': 100}\n"
     ]
    }
   ],
   "source": [
    "dnn_regressor = tf.estimator.DNNRegressor(feature_columns=feature_cols, \n",
    "                                          hidden_units=[10, 10], model_dir=\"/tmp/tensorflow/boston\")"
   ]
  },
  {
   "cell_type": "code",
   "execution_count": 14,
   "metadata": {
    "collapsed": true
   },
   "outputs": [],
   "source": [
    "def get_input_fn(data_set, num_epochs=None, shuffle=True):\n",
    "  return tf.estimator.inputs.pandas_input_fn(\n",
    "      x=pd.DataFrame({k: data_set[k].values for k in FEATURES}),\n",
    "      y = pd.Series(data_set[LABEL].values),\n",
    "      num_epochs=num_epochs,\n",
    "      shuffle=shuffle)"
   ]
  },
  {
   "cell_type": "code",
   "execution_count": 15,
   "metadata": {},
   "outputs": [
    {
     "name": "stdout",
     "output_type": "stream",
     "text": [
      "INFO:tensorflow:Create CheckpointSaverHook.\n",
      "INFO:tensorflow:Saving checkpoints for 1 into /tmp/tensorflow/boston/model.ckpt.\n",
      "INFO:tensorflow:loss = 142116.0, step = 1\n",
      "INFO:tensorflow:global_step/sec: 248.102\n",
      "INFO:tensorflow:loss = 15178.8, step = 101 (0.413 sec)\n",
      "INFO:tensorflow:global_step/sec: 305.14\n",
      "INFO:tensorflow:loss = 12334.7, step = 201 (0.324 sec)\n",
      "INFO:tensorflow:global_step/sec: 311.431\n",
      "INFO:tensorflow:loss = 10152.7, step = 301 (0.323 sec)\n",
      "INFO:tensorflow:global_step/sec: 266.91\n",
      "INFO:tensorflow:loss = 12844.6, step = 401 (0.376 sec)\n",
      "INFO:tensorflow:global_step/sec: 281.385\n",
      "INFO:tensorflow:loss = 9470.42, step = 501 (0.356 sec)\n",
      "INFO:tensorflow:global_step/sec: 254.452\n",
      "INFO:tensorflow:loss = 11679.1, step = 601 (0.394 sec)\n",
      "INFO:tensorflow:global_step/sec: 279.762\n",
      "INFO:tensorflow:loss = 7772.12, step = 701 (0.353 sec)\n",
      "INFO:tensorflow:global_step/sec: 309.28\n",
      "INFO:tensorflow:loss = 12427.7, step = 801 (0.324 sec)\n",
      "INFO:tensorflow:global_step/sec: 178.11\n",
      "INFO:tensorflow:loss = 11204.8, step = 901 (0.564 sec)\n",
      "INFO:tensorflow:global_step/sec: 204.652\n",
      "INFO:tensorflow:loss = 9988.08, step = 1001 (0.487 sec)\n",
      "INFO:tensorflow:global_step/sec: 228.648\n",
      "INFO:tensorflow:loss = 9057.82, step = 1101 (0.435 sec)\n",
      "INFO:tensorflow:global_step/sec: 233.787\n",
      "INFO:tensorflow:loss = 12258.1, step = 1201 (0.429 sec)\n",
      "INFO:tensorflow:global_step/sec: 210.336\n",
      "INFO:tensorflow:loss = 7470.18, step = 1301 (0.476 sec)\n",
      "INFO:tensorflow:global_step/sec: 237.067\n",
      "INFO:tensorflow:loss = 7577.78, step = 1401 (0.420 sec)\n",
      "INFO:tensorflow:global_step/sec: 238.724\n",
      "INFO:tensorflow:loss = 7882.75, step = 1501 (0.422 sec)\n",
      "INFO:tensorflow:global_step/sec: 255.591\n",
      "INFO:tensorflow:loss = 9684.2, step = 1601 (0.392 sec)\n",
      "INFO:tensorflow:global_step/sec: 252.364\n",
      "INFO:tensorflow:loss = 8956.62, step = 1701 (0.394 sec)\n",
      "INFO:tensorflow:global_step/sec: 256.885\n",
      "INFO:tensorflow:loss = 6294.25, step = 1801 (0.394 sec)\n",
      "INFO:tensorflow:global_step/sec: 211.413\n",
      "INFO:tensorflow:loss = 10529.9, step = 1901 (0.471 sec)\n",
      "INFO:tensorflow:global_step/sec: 253.996\n",
      "INFO:tensorflow:loss = 5893.45, step = 2001 (0.391 sec)\n",
      "INFO:tensorflow:global_step/sec: 248.593\n",
      "INFO:tensorflow:loss = 7118.94, step = 2101 (0.406 sec)\n",
      "INFO:tensorflow:global_step/sec: 265.948\n",
      "INFO:tensorflow:loss = 10844.4, step = 2201 (0.372 sec)\n",
      "INFO:tensorflow:global_step/sec: 267.738\n",
      "INFO:tensorflow:loss = 8765.33, step = 2301 (0.374 sec)\n",
      "INFO:tensorflow:global_step/sec: 269.074\n",
      "INFO:tensorflow:loss = 5701.71, step = 2401 (0.376 sec)\n",
      "INFO:tensorflow:global_step/sec: 318.945\n",
      "INFO:tensorflow:loss = 6896.22, step = 2501 (0.309 sec)\n",
      "INFO:tensorflow:global_step/sec: 357.265\n",
      "INFO:tensorflow:loss = 3913.24, step = 2601 (0.279 sec)\n",
      "INFO:tensorflow:global_step/sec: 308.297\n",
      "INFO:tensorflow:loss = 8634.19, step = 2701 (0.322 sec)\n",
      "INFO:tensorflow:global_step/sec: 226.969\n",
      "INFO:tensorflow:loss = 7411.13, step = 2801 (0.449 sec)\n",
      "INFO:tensorflow:global_step/sec: 201.693\n",
      "INFO:tensorflow:loss = 8036.44, step = 2901 (0.494 sec)\n",
      "INFO:tensorflow:global_step/sec: 274.242\n",
      "INFO:tensorflow:loss = 5441.65, step = 3001 (0.360 sec)\n",
      "INFO:tensorflow:global_step/sec: 324.745\n",
      "INFO:tensorflow:loss = 5035.55, step = 3101 (0.310 sec)\n",
      "INFO:tensorflow:global_step/sec: 279.016\n",
      "INFO:tensorflow:loss = 4512.79, step = 3201 (0.359 sec)\n",
      "INFO:tensorflow:global_step/sec: 328.179\n",
      "INFO:tensorflow:loss = 4273.47, step = 3301 (0.302 sec)\n",
      "INFO:tensorflow:global_step/sec: 311.76\n",
      "INFO:tensorflow:loss = 6865.2, step = 3401 (0.323 sec)\n",
      "INFO:tensorflow:global_step/sec: 321.125\n",
      "INFO:tensorflow:loss = 6778.37, step = 3501 (0.311 sec)\n",
      "INFO:tensorflow:global_step/sec: 325.601\n",
      "INFO:tensorflow:loss = 6519.58, step = 3601 (0.306 sec)\n",
      "INFO:tensorflow:global_step/sec: 320.424\n",
      "INFO:tensorflow:loss = 5688.53, step = 3701 (0.314 sec)\n",
      "INFO:tensorflow:global_step/sec: 325.33\n",
      "INFO:tensorflow:loss = 6433.16, step = 3801 (0.308 sec)\n",
      "INFO:tensorflow:global_step/sec: 353.007\n",
      "INFO:tensorflow:loss = 5094.15, step = 3901 (0.282 sec)\n",
      "INFO:tensorflow:global_step/sec: 336.278\n",
      "INFO:tensorflow:loss = 8297.46, step = 4001 (0.295 sec)\n",
      "INFO:tensorflow:global_step/sec: 345.125\n",
      "INFO:tensorflow:loss = 4682.69, step = 4101 (0.288 sec)\n",
      "INFO:tensorflow:global_step/sec: 301.569\n",
      "INFO:tensorflow:loss = 7459.76, step = 4201 (0.333 sec)\n",
      "INFO:tensorflow:global_step/sec: 351.897\n",
      "INFO:tensorflow:loss = 3650.95, step = 4301 (0.287 sec)\n",
      "INFO:tensorflow:global_step/sec: 341.806\n",
      "INFO:tensorflow:loss = 3551.43, step = 4401 (0.290 sec)\n",
      "INFO:tensorflow:global_step/sec: 328.472\n",
      "INFO:tensorflow:loss = 3591.94, step = 4501 (0.304 sec)\n",
      "INFO:tensorflow:global_step/sec: 357.711\n",
      "INFO:tensorflow:loss = 4936.17, step = 4601 (0.282 sec)\n",
      "INFO:tensorflow:global_step/sec: 298.563\n",
      "INFO:tensorflow:loss = 4323.91, step = 4701 (0.333 sec)\n",
      "INFO:tensorflow:global_step/sec: 337.375\n",
      "INFO:tensorflow:loss = 3924.99, step = 4801 (0.296 sec)\n",
      "INFO:tensorflow:global_step/sec: 343.211\n",
      "INFO:tensorflow:loss = 3639.58, step = 4901 (0.295 sec)\n",
      "INFO:tensorflow:Saving checkpoints for 5000 into /tmp/tensorflow/boston/model.ckpt.\n",
      "INFO:tensorflow:Loss for final step: 5126.77.\n"
     ]
    },
    {
     "data": {
      "text/plain": [
       "<tensorflow.python.estimator.canned.dnn.DNNRegressor at 0x181f1b4a50>"
      ]
     },
     "execution_count": 15,
     "metadata": {},
     "output_type": "execute_result"
    }
   ],
   "source": [
    "dnn_regressor.train(input_fn=get_input_fn(training_set), steps=5000)"
   ]
  },
  {
   "cell_type": "markdown",
   "metadata": {},
   "source": [
    "# 3. Evalute the Model"
   ]
  },
  {
   "cell_type": "code",
   "execution_count": 16,
   "metadata": {},
   "outputs": [
    {
     "name": "stdout",
     "output_type": "stream",
     "text": [
      "INFO:tensorflow:Starting evaluation at 2017-12-09-14:00:12\n",
      "INFO:tensorflow:Restoring parameters from /tmp/tensorflow/boston/model.ckpt-5000\n",
      "INFO:tensorflow:Finished evaluation at 2017-12-09-14:00:13\n",
      "INFO:tensorflow:Saving dict for global step 5000: average_loss = 23.7327, global_step = 5000, loss = 2373.27\n"
     ]
    }
   ],
   "source": [
    "ev = dnn_regressor.evaluate(\n",
    "    input_fn=get_input_fn(test_set, num_epochs=1, shuffle=False))"
   ]
  },
  {
   "cell_type": "markdown",
   "metadata": {},
   "source": [
    "# 4. Make Predictions"
   ]
  },
  {
   "cell_type": "code",
   "execution_count": 21,
   "metadata": {},
   "outputs": [
    {
     "name": "stdout",
     "output_type": "stream",
     "text": [
      "INFO:tensorflow:Restoring parameters from /tmp/tensorflow/boston/model.ckpt-5000\n"
     ]
    }
   ],
   "source": [
    "predictions = dnn_regressor.predict(input_fn=get_input_fn(predict_set, num_epochs=1, shuffle=False))\n",
    "predictions = list(predictions)"
   ]
  },
  {
   "cell_type": "code",
   "execution_count": 22,
   "metadata": {},
   "outputs": [
    {
     "data": {
      "text/plain": [
       "[{'predictions': array([ 37.74973679], dtype=float32)},\n",
       " {'predictions': array([ 21.14399529], dtype=float32)},\n",
       " {'predictions': array([ 24.50967026], dtype=float32)},\n",
       " {'predictions': array([ 34.70974731], dtype=float32)},\n",
       " {'predictions': array([ 16.32670403], dtype=float32)},\n",
       " {'predictions': array([ 21.40563965], dtype=float32)}]"
      ]
     },
     "execution_count": 22,
     "metadata": {},
     "output_type": "execute_result"
    }
   ],
   "source": [
    "predictions"
   ]
  },
  {
   "cell_type": "code",
   "execution_count": null,
   "metadata": {
    "collapsed": true
   },
   "outputs": [],
   "source": []
  }
 ],
 "metadata": {
  "kernelspec": {
   "display_name": "Python 2",
   "language": "python",
   "name": "python2"
  },
  "language_info": {
   "codemirror_mode": {
    "name": "ipython",
    "version": 2
   },
   "file_extension": ".py",
   "mimetype": "text/x-python",
   "name": "python",
   "nbconvert_exporter": "python",
   "pygments_lexer": "ipython2",
   "version": "2.7.13"
  }
 },
 "nbformat": 4,
 "nbformat_minor": 2
}
