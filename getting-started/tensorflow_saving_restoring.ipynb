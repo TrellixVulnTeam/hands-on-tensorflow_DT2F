{
 "cells": [
  {
   "cell_type": "code",
   "execution_count": 1,
   "metadata": {},
   "outputs": [],
   "source": [
    "import tensorflow as tf"
   ]
  },
  {
   "cell_type": "markdown",
   "metadata": {},
   "source": [
    "# 1. saving and restoring variables"
   ]
  },
  {
   "cell_type": "code",
   "execution_count": 14,
   "metadata": {},
   "outputs": [],
   "source": [
    "with tf.variable_scope(\"v\", reuse=tf.AUTO_REUSE):\n",
    "    v = tf.get_variable(\"v\", shape=[2, 2], dtype=tf.float32)\n",
    "    add_op = v.assign_add(v + 1)\n",
    "saver = tf.train.Saver()"
   ]
  },
  {
   "cell_type": "code",
   "execution_count": 19,
   "metadata": {},
   "outputs": [
    {
     "name": "stdout",
     "output_type": "stream",
     "text": [
      "[[ 0.1283555  -0.58816934]\n",
      " [ 1.13508368  2.24401355]]\n",
      "save session to /tmp/tensorflow/model.ckpt\n"
     ]
    }
   ],
   "source": [
    "with tf.Session() as sess:\n",
    "    sess.run(v.initializer)\n",
    "    print add_op.eval()\n",
    "    save_path = saver.save(sess, \"/tmp/tensorflow/model.ckpt\")\n",
    "    print(\"save session to {}\".format(save_path))"
   ]
  },
  {
   "cell_type": "code",
   "execution_count": 20,
   "metadata": {},
   "outputs": [
    {
     "name": "stdout",
     "output_type": "stream",
     "text": [
      "INFO:tensorflow:Restoring parameters from /tmp/tensorflow/model.ckpt\n",
      "[[ 0.1283555  -0.58816934]\n",
      " [ 1.13508368  2.24401355]]\n"
     ]
    }
   ],
   "source": [
    "with tf.Session() as sess:\n",
    "    saver.restore(sess, save_path)\n",
    "    print(v.eval())"
   ]
  },
  {
   "cell_type": "markdown",
   "metadata": {},
   "source": [
    "# 2. Model save and restoring"
   ]
  },
  {
   "cell_type": "code",
   "execution_count": 23,
   "metadata": {},
   "outputs": [],
   "source": [
    "# model parameters\n",
    "graph = tf.Graph()\n",
    "with graph.as_default():\n",
    "    W = tf.get_variable(\"W\", [1], tf.float64)\n",
    "    b = tf.get_variable(\"b\", [1], tf.float64)\n",
    "    # model input and output\n",
    "    x = tf.placeholder(tf.float64)\n",
    "    y = tf.placeholder(tf.float64)\n",
    "    linear_model = W * x + b\n",
    "    loss = tf.reduce_sum(tf.square(y - linear_model))\n",
    "    optimizer = tf.train.GradientDescentOptimizer(0.01)\n",
    "    train = optimizer.minimize(loss)"
   ]
  },
  {
   "cell_type": "code",
   "execution_count": 40,
   "metadata": {},
   "outputs": [
    {
     "name": "stdout",
     "output_type": "stream",
     "text": [
      "current loss\n",
      "0.640973458504\n",
      "INFO:tensorflow:No assets to save.\n",
      "INFO:tensorflow:No assets to write.\n",
      "INFO:tensorflow:SavedModel written to: /tmp/tensorflow/linear_model/saved_model.pb\n"
     ]
    }
   ],
   "source": [
    "import shutil\n",
    "import numpy as np\n",
    "export_dir = \"/tmp/tensorflow/linear_model\"\n",
    "shutil.rmtree(export_dir)\n",
    "builder = tf.saved_model.builder.SavedModelBuilder(export_dir)\n",
    "with tf.Session(graph=graph) as sess:\n",
    "    x_train = np.array([1., 2., 3., 4.])\n",
    "    y_train = np.array([0., -1., -2., -3.])\n",
    "    sess.run(tf.global_variables_initializer())\n",
    "    sess.run(train, {x: x_train, y: y_train})\n",
    "    current_W, current_b, loss = sess.run([W, b, loss], {x: x_train, y: y_train})\n",
    "    print(\"current loss\")\n",
    "    print loss\n",
    "    builder.add_meta_graph_and_variables(sess, tags=[\"linear_training\"])\n",
    "    builder.save()"
   ]
  },
  {
   "cell_type": "code",
   "execution_count": 41,
   "metadata": {},
   "outputs": [
    {
     "name": "stdout",
     "output_type": "stream",
     "text": [
      "INFO:tensorflow:Restoring parameters from /tmp/tensorflow/linear_model/variables/variables\n"
     ]
    }
   ],
   "source": [
    "with tf.Session(graph=tf.Graph()) as sess:\n",
    "    model = tf.saved_model.loader.load(sess, [\"linear_training\"], export_dir)"
   ]
  },
  {
   "cell_type": "markdown",
   "metadata": {},
   "source": [
    "# 3. Using saved model with estimators"
   ]
  },
  {
   "cell_type": "code",
   "execution_count": 43,
   "metadata": {},
   "outputs": [
    {
     "data": {
      "text/plain": [
       "numpy.ndarray"
      ]
     },
     "execution_count": 43,
     "metadata": {},
     "output_type": "execute_result"
    }
   ],
   "source": [
    "train_path = \"./datasets/iris/iris_training.csv\"\n",
    "test_path = \"./datasets/iris/iris_test.csv\"\n",
    "training_set = tf.contrib.learn.datasets.base.load_csv_with_header(\n",
    "    filename=train_path,\n",
    "    target_dtype=np.int,\n",
    "    features_dtype=np.float32)\n",
    "test_set = tf.contrib.learn.datasets.base.load_csv_with_header(\n",
    "    filename=test_path,\n",
    "    target_dtype=np.int,\n",
    "    features_dtype=np.float32)\n",
    "type(test_set.data)"
   ]
  },
  {
   "cell_type": "code",
   "execution_count": 44,
   "metadata": {},
   "outputs": [
    {
     "name": "stdout",
     "output_type": "stream",
     "text": [
      "INFO:tensorflow:Using default config.\n",
      "INFO:tensorflow:Using config: {'_save_checkpoints_secs': 600, '_session_config': None, '_keep_checkpoint_max': 5, '_task_type': 'worker', '_is_chief': True, '_cluster_spec': <tensorflow.python.training.server_lib.ClusterSpec object at 0x1146b5390>, '_save_checkpoints_steps': None, '_keep_checkpoint_every_n_hours': 10000, '_service': None, '_num_ps_replicas': 0, '_tf_random_seed': None, '_master': '', '_num_worker_replicas': 1, '_task_id': 0, '_log_step_count_steps': 100, '_model_dir': '/tmp/tensorflow/iris_model', '_save_summary_steps': 100}\n"
     ]
    }
   ],
   "source": [
    "feature_columns = [tf.feature_column.numeric_column(\"x\", shape=4)]\n",
    "classifier = tf.estimator.DNNClassifier(feature_columns=feature_columns,\n",
    "                                        hidden_units=[10, 20, 10],\n",
    "                                        n_classes=3,\n",
    "                                        model_dir=\"/tmp/tensorflow/iris_model\")"
   ]
  },
  {
   "cell_type": "code",
   "execution_count": 45,
   "metadata": {},
   "outputs": [],
   "source": [
    "input_fn = tf.estimator.inputs.numpy_input_fn(\n",
    "    x={'x': np.array(training_set.data)},\n",
    "    y=np.array(training_set.target),\n",
    "    num_epochs=None,\n",
    "    shuffle=True\n",
    ")"
   ]
  },
  {
   "cell_type": "code",
   "execution_count": 47,
   "metadata": {},
   "outputs": [
    {
     "name": "stdout",
     "output_type": "stream",
     "text": [
      "INFO:tensorflow:Create CheckpointSaverHook.\n",
      "INFO:tensorflow:Restoring parameters from /tmp/tensorflow/iris_model/model.ckpt-4000\n",
      "INFO:tensorflow:Saving checkpoints for 4001 into /tmp/tensorflow/iris_model/model.ckpt.\n",
      "INFO:tensorflow:loss = 4.13491, step = 4001\n",
      "INFO:tensorflow:Saving checkpoints for 4100 into /tmp/tensorflow/iris_model/model.ckpt.\n",
      "INFO:tensorflow:Loss for final step: 8.38359.\n"
     ]
    },
    {
     "data": {
      "text/plain": [
       "<tensorflow.python.estimator.canned.dnn.DNNClassifier at 0x115810dd0>"
      ]
     },
     "execution_count": 47,
     "metadata": {},
     "output_type": "execute_result"
    }
   ],
   "source": [
    "classifier.train(input_fn=input_fn, steps=100)"
   ]
  },
  {
   "cell_type": "code",
   "execution_count": 70,
   "metadata": {},
   "outputs": [],
   "source": [
    "def classifier_serving_input_receiver_fn():\n",
    "    # save the model\n",
    "    x = tf.placeholder(dtype=tf.float64, shape=[None, 4], name=\"x\")\n",
    "    features = {\"x\": x}\n",
    "    receiver_tensors = features\n",
    "    return tf.estimator.export.ServingInputReceiver(features, receiver_tensors)"
   ]
  },
  {
   "cell_type": "code",
   "execution_count": 72,
   "metadata": {},
   "outputs": [
    {
     "name": "stdout",
     "output_type": "stream",
     "text": [
      "INFO:tensorflow:Restoring parameters from /tmp/tensorflow/iris_model/model.ckpt-4100\n",
      "INFO:tensorflow:Assets added to graph.\n",
      "INFO:tensorflow:No assets to write.\n",
      "INFO:tensorflow:SavedModel written to: /tmp/tensorflow/export/linear_model/temp-1513582339/saved_model.pb\n"
     ]
    },
    {
     "data": {
      "text/plain": [
       "'/tmp/tensorflow/export/linear_model/1513582339'"
      ]
     },
     "execution_count": 72,
     "metadata": {},
     "output_type": "execute_result"
    }
   ],
   "source": [
    "import os\n",
    "import shutil\n",
    "export_dir_base = \"/tmp/tensorflow/export/linear_model\"\n",
    "if os.path.exists(export_dir_base):\n",
    "    shutil.rmtree(export_dir_base)\n",
    "classifier.export_savedmodel(export_dir_base, classifier_serving_input_receiver_fn)"
   ]
  },
  {
   "cell_type": "code",
   "execution_count": null,
   "metadata": {},
   "outputs": [],
   "source": []
  }
 ],
 "metadata": {
  "kernelspec": {
   "display_name": "Python 2",
   "language": "python",
   "name": "python2"
  },
  "language_info": {
   "codemirror_mode": {
    "name": "ipython",
    "version": 2
   },
   "file_extension": ".py",
   "mimetype": "text/x-python",
   "name": "python",
   "nbconvert_exporter": "python",
   "pygments_lexer": "ipython2",
   "version": "2.7.12"
  }
 },
 "nbformat": 4,
 "nbformat_minor": 2
}
