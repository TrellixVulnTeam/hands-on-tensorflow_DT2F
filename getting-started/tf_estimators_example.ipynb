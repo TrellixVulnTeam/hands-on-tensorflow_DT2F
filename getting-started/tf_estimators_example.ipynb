{
 "cells": [
  {
   "cell_type": "code",
   "execution_count": 2,
   "metadata": {},
   "outputs": [],
   "source": [
    "import tensorflow as tf\n",
    "import numpy as np\n",
    "from __future__ import print_function\n",
    "from __future__ import division\n",
    "from __future__ import absolute_import"
   ]
  },
  {
   "cell_type": "markdown",
   "metadata": {},
   "source": [
    "# 1. load data"
   ]
  },
  {
   "cell_type": "code",
   "execution_count": 4,
   "metadata": {},
   "outputs": [
    {
     "data": {
      "text/plain": [
       "numpy.ndarray"
      ]
     },
     "execution_count": 4,
     "metadata": {},
     "output_type": "execute_result"
    }
   ],
   "source": [
    "train_path = \"./datasets/iris/iris_training.csv\"\n",
    "test_path = \"./datasets/iris/iris_test.csv\"\n",
    "training_set = tf.contrib.learn.datasets.base.load_csv_with_header(\n",
    "    filename=train_path,\n",
    "    target_dtype=np.int,\n",
    "    features_dtype=np.float32)\n",
    "test_set = tf.contrib.learn.datasets.base.load_csv_with_header(\n",
    "    filename=test_path,\n",
    "    target_dtype=np.int,\n",
    "    features_dtype=np.float32)\n",
    "type(test_set.data)"
   ]
  },
  {
   "cell_type": "markdown",
   "metadata": {},
   "source": [
    "# 2. Contrust Deep Neural Network Classifier"
   ]
  },
  {
   "cell_type": "code",
   "execution_count": 13,
   "metadata": {},
   "outputs": [
    {
     "name": "stdout",
     "output_type": "stream",
     "text": [
      "INFO:tensorflow:Using default config.\n",
      "INFO:tensorflow:Using config: {'_save_checkpoints_secs': 600, '_session_config': None, '_keep_checkpoint_max': 5, '_task_type': 'worker', '_is_chief': True, '_cluster_spec': <tensorflow.python.training.server_lib.ClusterSpec object at 0x1a1758c250>, '_save_checkpoints_steps': None, '_keep_checkpoint_every_n_hours': 10000, '_service': None, '_num_ps_replicas': 0, '_tf_random_seed': None, '_master': '', '_num_worker_replicas': 1, '_task_id': 0, '_log_step_count_steps': 100, '_model_dir': '/tmp/tensorflow/iris_model', '_save_summary_steps': 100}\n"
     ]
    }
   ],
   "source": [
    "feature_columns = [tf.feature_column.numeric_column(\"x\", shape=4)]\n",
    "classifier = tf.estimator.DNNClassifier(feature_columns=feature_columns,\n",
    "                                        hidden_units=[10, 20, 10],\n",
    "                                        n_classes=3,\n",
    "                                        model_dir=\"/tmp/tensorflow/iris_model\")"
   ]
  },
  {
   "cell_type": "markdown",
   "metadata": {},
   "source": [
    "# 3. Describe Training Input Pipeline"
   ]
  },
  {
   "cell_type": "code",
   "execution_count": 15,
   "metadata": {},
   "outputs": [],
   "source": [
    "input_fn = tf.estimator.inputs.numpy_input_fn(\n",
    "    x={'x': np.array(training_set.data)},\n",
    "    y=np.array(training_set.target),\n",
    "    num_epochs=None,\n",
    "    shuffle=True\n",
    ")"
   ]
  },
  {
   "cell_type": "markdown",
   "metadata": {},
   "source": [
    "# 4. Fit and Train"
   ]
  },
  {
   "cell_type": "code",
   "execution_count": 16,
   "metadata": {},
   "outputs": [
    {
     "name": "stdout",
     "output_type": "stream",
     "text": [
      "INFO:tensorflow:Create CheckpointSaverHook.\n",
      "INFO:tensorflow:Saving checkpoints for 1 into /tmp/tensorflow/iris_model/model.ckpt.\n",
      "INFO:tensorflow:loss = 271.472, step = 1\n",
      "INFO:tensorflow:global_step/sec: 507.58\n",
      "INFO:tensorflow:loss = 14.5494, step = 101 (0.198 sec)\n",
      "INFO:tensorflow:global_step/sec: 343.724\n",
      "INFO:tensorflow:loss = 9.04717, step = 201 (0.298 sec)\n",
      "INFO:tensorflow:global_step/sec: 411.941\n",
      "INFO:tensorflow:loss = 6.74196, step = 301 (0.236 sec)\n",
      "INFO:tensorflow:global_step/sec: 606.914\n",
      "INFO:tensorflow:loss = 11.573, step = 401 (0.167 sec)\n",
      "INFO:tensorflow:global_step/sec: 613.546\n",
      "INFO:tensorflow:loss = 7.75517, step = 501 (0.161 sec)\n",
      "INFO:tensorflow:global_step/sec: 534.599\n",
      "INFO:tensorflow:loss = 5.0061, step = 601 (0.187 sec)\n",
      "INFO:tensorflow:global_step/sec: 691.477\n",
      "INFO:tensorflow:loss = 15.0316, step = 701 (0.145 sec)\n",
      "INFO:tensorflow:global_step/sec: 538.144\n",
      "INFO:tensorflow:loss = 4.74795, step = 801 (0.184 sec)\n",
      "INFO:tensorflow:global_step/sec: 389.131\n",
      "INFO:tensorflow:loss = 4.59017, step = 901 (0.261 sec)\n",
      "INFO:tensorflow:global_step/sec: 622.801\n",
      "INFO:tensorflow:loss = 8.80815, step = 1001 (0.160 sec)\n",
      "INFO:tensorflow:global_step/sec: 443.109\n",
      "INFO:tensorflow:loss = 4.85796, step = 1101 (0.225 sec)\n",
      "INFO:tensorflow:global_step/sec: 635.445\n",
      "INFO:tensorflow:loss = 5.00878, step = 1201 (0.155 sec)\n",
      "INFO:tensorflow:global_step/sec: 671.953\n",
      "INFO:tensorflow:loss = 4.86203, step = 1301 (0.153 sec)\n",
      "INFO:tensorflow:global_step/sec: 281.785\n",
      "INFO:tensorflow:loss = 2.53173, step = 1401 (0.349 sec)\n",
      "INFO:tensorflow:global_step/sec: 610.47\n",
      "INFO:tensorflow:loss = 7.61147, step = 1501 (0.164 sec)\n",
      "INFO:tensorflow:global_step/sec: 517.824\n",
      "INFO:tensorflow:loss = 13.9965, step = 1601 (0.193 sec)\n",
      "INFO:tensorflow:global_step/sec: 554.397\n",
      "INFO:tensorflow:loss = 8.06188, step = 1701 (0.184 sec)\n",
      "INFO:tensorflow:global_step/sec: 603.763\n",
      "INFO:tensorflow:loss = 5.78514, step = 1801 (0.161 sec)\n",
      "INFO:tensorflow:global_step/sec: 628.058\n",
      "INFO:tensorflow:loss = 5.888, step = 1901 (0.160 sec)\n",
      "INFO:tensorflow:Saving checkpoints for 2000 into /tmp/tensorflow/iris_model/model.ckpt.\n",
      "INFO:tensorflow:Loss for final step: 9.26824.\n"
     ]
    },
    {
     "data": {
      "text/plain": [
       "<tensorflow.python.estimator.canned.dnn.DNNClassifier at 0x1a1758c5d0>"
      ]
     },
     "execution_count": 16,
     "metadata": {},
     "output_type": "execute_result"
    }
   ],
   "source": [
    "classifier.train(input_fn=input_fn, steps=2000)"
   ]
  },
  {
   "cell_type": "markdown",
   "metadata": {},
   "source": [
    "# 5. Evaluate the Model"
   ]
  },
  {
   "cell_type": "code",
   "execution_count": 17,
   "metadata": {
    "collapsed": true
   },
   "outputs": [],
   "source": [
    "test_input_fn = tf.estimator.inputs.numpy_input_fn(\n",
    "    x={'x': np.array(test_set.data)},\n",
    "    y=np.array(test_set.target),\n",
    "    num_epochs=1,\n",
    "    shuffle=False\n",
    ")"
   ]
  },
  {
   "cell_type": "code",
   "execution_count": 18,
   "metadata": {},
   "outputs": [
    {
     "name": "stdout",
     "output_type": "stream",
     "text": [
      "INFO:tensorflow:Starting evaluation at 2017-12-09-13:22:16\n",
      "INFO:tensorflow:Restoring parameters from /tmp/tensorflow/iris_model/model.ckpt-2000\n",
      "INFO:tensorflow:Finished evaluation at 2017-12-09-13:22:16\n",
      "INFO:tensorflow:Saving dict for global step 2000: accuracy = 0.966667, average_loss = 0.065833, global_step = 2000, loss = 1.97499\n"
     ]
    }
   ],
   "source": [
    "accuracy_rate = classifier.evaluate(input_fn=test_input_fn)[\"accuracy\"]"
   ]
  },
  {
   "cell_type": "markdown",
   "metadata": {},
   "source": [
    "# 6. Do Predictions"
   ]
  },
  {
   "cell_type": "code",
   "execution_count": 23,
   "metadata": {
    "collapsed": true
   },
   "outputs": [],
   "source": [
    "new_samples = np.array(\n",
    "    [[6.4, 3.2, 4.5, 1.5],\n",
    "     [5.8, 3.1, 5.0, 1.7]], dtype=np.float32)"
   ]
  },
  {
   "cell_type": "code",
   "execution_count": 24,
   "metadata": {
    "collapsed": true
   },
   "outputs": [],
   "source": [
    "predict_input_fn = tf.estimator.inputs.numpy_input_fn(\n",
    "    x={'x': new_samples},\n",
    "    num_epochs=1,\n",
    "    shuffle=False\n",
    ")"
   ]
  },
  {
   "cell_type": "code",
   "execution_count": 25,
   "metadata": {},
   "outputs": [
    {
     "name": "stdout",
     "output_type": "stream",
     "text": [
      "INFO:tensorflow:Restoring parameters from /tmp/tensorflow/iris_model/model.ckpt-2000\n"
     ]
    }
   ],
   "source": [
    "predictions = list(classifier.predict(input_fn=predict_input_fn))"
   ]
  },
  {
   "cell_type": "code",
   "execution_count": 26,
   "metadata": {},
   "outputs": [
    {
     "data": {
      "text/plain": [
       "[{'class_ids': array([1]),\n",
       "  'classes': array(['1'], dtype=object),\n",
       "  'logits': array([-7.37608767,  2.43641257, -7.17054605], dtype=float32),\n",
       "  'probabilities': array([  5.47560885e-05,   9.99878049e-01,   6.72508904e-05], dtype=float32)},\n",
       " {'class_ids': array([2]),\n",
       "  'classes': array(['2'], dtype=object),\n",
       "  'logits': array([-9.91559219, -1.16021252, -0.38184389], dtype=float32),\n",
       "  'probabilities': array([  4.95932727e-05,   3.14655960e-01,   6.85294390e-01], dtype=float32)}]"
      ]
     },
     "execution_count": 26,
     "metadata": {},
     "output_type": "execute_result"
    }
   ],
   "source": [
    "predictions"
   ]
  },
  {
   "cell_type": "code",
   "execution_count": null,
   "metadata": {
    "collapsed": true
   },
   "outputs": [],
   "source": []
  }
 ],
 "metadata": {
  "kernelspec": {
   "display_name": "Python 2",
   "language": "python",
   "name": "python2"
  },
  "language_info": {
   "codemirror_mode": {
    "name": "ipython",
    "version": 2
   },
   "file_extension": ".py",
   "mimetype": "text/x-python",
   "name": "python",
   "nbconvert_exporter": "python",
   "pygments_lexer": "ipython2",
   "version": "2.7.12"
  }
 },
 "nbformat": 4,
 "nbformat_minor": 2
}
