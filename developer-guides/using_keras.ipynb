{
 "cells": [
  {
   "cell_type": "code",
   "execution_count": 17,
   "metadata": {},
   "outputs": [],
   "source": [
    "import tensorflow as tf\n",
    "from tensorflow import keras\n",
    "import numpy as np"
   ]
  },
  {
   "cell_type": "code",
   "execution_count": 29,
   "metadata": {
    "collapsed": true
   },
   "outputs": [],
   "source": [
    "model = keras.Sequential()\n",
    "model.add(keras.layers.Dense(64, activation='relu', kernel_initializer='orthogonal'))\n",
    "model.add(keras.layers.Dense(64, activation='relu'))\n",
    "model.add(keras.layers.Dense(10, activation='softmax'))"
   ]
  },
  {
   "cell_type": "code",
   "execution_count": 30,
   "metadata": {},
   "outputs": [],
   "source": [
    "model.compile(optimizer=tf.train.AdamOptimizer(0.0001), loss='categorical_crossentropy', metrics=['accuracy'])"
   ]
  },
  {
   "cell_type": "code",
   "execution_count": 31,
   "metadata": {},
   "outputs": [],
   "source": [
    "data = np.random.random((1000, 32))\n",
    "labels = np.random.random((1000, 10))\n",
    "\n",
    "val_data = np.random.random((100, 32))\n",
    "val_labels = np.random.random((100, 10))"
   ]
  },
  {
   "cell_type": "code",
   "execution_count": 32,
   "metadata": {},
   "outputs": [
    {
     "name": "stdout",
     "output_type": "stream",
     "text": [
      "Train on 1000 samples, validate on 100 samples\n",
      "Epoch 1/10\n",
      "1000/1000 [==============================] - 0s 338us/step - loss: 11.6766 - acc: 0.0800 - val_loss: 12.0294 - val_acc: 0.0800\n",
      "Epoch 2/10\n",
      "1000/1000 [==============================] - 0s 84us/step - loss: 11.5768 - acc: 0.0920 - val_loss: 11.9645 - val_acc: 0.0700\n",
      "Epoch 3/10\n",
      "1000/1000 [==============================] - 0s 87us/step - loss: 11.5436 - acc: 0.0980 - val_loss: 11.9424 - val_acc: 0.0700\n",
      "Epoch 4/10\n",
      "1000/1000 [==============================] - 0s 106us/step - loss: 11.5326 - acc: 0.1020 - val_loss: 11.9348 - val_acc: 0.0800\n",
      "Epoch 5/10\n",
      "1000/1000 [==============================] - 0s 88us/step - loss: 11.5280 - acc: 0.1040 - val_loss: 11.9313 - val_acc: 0.0800\n",
      "Epoch 6/10\n",
      "1000/1000 [==============================] - 0s 79us/step - loss: 11.5252 - acc: 0.1060 - val_loss: 11.9290 - val_acc: 0.0800\n",
      "Epoch 7/10\n",
      "1000/1000 [==============================] - 0s 86us/step - loss: 11.5230 - acc: 0.1090 - val_loss: 11.9284 - val_acc: 0.0700\n",
      "Epoch 8/10\n",
      "1000/1000 [==============================] - 0s 86us/step - loss: 11.5213 - acc: 0.1030 - val_loss: 11.9271 - val_acc: 0.1000\n",
      "Epoch 9/10\n",
      "1000/1000 [==============================] - 0s 105us/step - loss: 11.5196 - acc: 0.1060 - val_loss: 11.9265 - val_acc: 0.0800\n",
      "Epoch 10/10\n",
      "1000/1000 [==============================] - 0s 103us/step - loss: 11.5182 - acc: 0.1050 - val_loss: 11.9259 - val_acc: 0.0800\n"
     ]
    },
    {
     "data": {
      "text/plain": [
       "<tensorflow.python.keras._impl.keras.callbacks.History at 0x112153810>"
      ]
     },
     "execution_count": 32,
     "metadata": {},
     "output_type": "execute_result"
    }
   ],
   "source": [
    "model.fit(data, labels, epochs=10, batch_size=32, validation_data=(val_data, val_labels))"
   ]
  },
  {
   "cell_type": "markdown",
   "metadata": {},
   "source": [
    "# Using Dataset"
   ]
  },
  {
   "cell_type": "code",
   "execution_count": 36,
   "metadata": {
    "collapsed": true
   },
   "outputs": [],
   "source": [
    "data = np.random.random((1000, 32))\n",
    "labels = np.random.random((1000, 10))\n",
    "val_data = np.random.random((100, 32))\n",
    "val_labels = np.random.random((100, 10))"
   ]
  },
  {
   "cell_type": "code",
   "execution_count": 39,
   "metadata": {
    "collapsed": true
   },
   "outputs": [],
   "source": [
    "dataset = tf.data.Dataset.from_tensor_slices((data, labels))\n",
    "dataset = dataset.batch(32)\n",
    "dataset = dataset.repeat()"
   ]
  },
  {
   "cell_type": "code",
   "execution_count": 41,
   "metadata": {},
   "outputs": [],
   "source": [
    "# model.fit(dataset, epochs=10, steps_per_epoch=30)"
   ]
  },
  {
   "cell_type": "markdown",
   "metadata": {},
   "source": [
    "# Mnist Example"
   ]
  },
  {
   "cell_type": "code",
   "execution_count": 43,
   "metadata": {},
   "outputs": [
    {
     "name": "stdout",
     "output_type": "stream",
     "text": [
      "Epoch 1/5\n",
      "60000/60000 [==============================] - 21s 346us/step - loss: 0.2186 - acc: 0.9353\n",
      "Epoch 2/5\n",
      "60000/60000 [==============================] - 20s 332us/step - loss: 0.0958 - acc: 0.9708\n",
      "Epoch 3/5\n",
      "60000/60000 [==============================] - 18s 301us/step - loss: 0.0692 - acc: 0.9778\n",
      "Epoch 4/5\n",
      "60000/60000 [==============================] - 18s 304us/step - loss: 0.0537 - acc: 0.9823\n",
      "Epoch 5/5\n",
      "60000/60000 [==============================] - 18s 305us/step - loss: 0.0441 - acc: 0.9858\n",
      "10000/10000 [==============================] - 1s 110us/step\n"
     ]
    },
    {
     "data": {
      "text/plain": [
       "[0.07999520660359412, 0.9759]"
      ]
     },
     "execution_count": 43,
     "metadata": {},
     "output_type": "execute_result"
    }
   ],
   "source": [
    "import tensorflow as tf\n",
    "mnist = tf.keras.datasets.mnist\n",
    "\n",
    "(x_train, y_train),(x_test, y_test) = mnist.load_data()\n",
    "x_train, x_test = x_train / 255.0, x_test / 255.0\n",
    "\n",
    "model = tf.keras.models.Sequential([\n",
    "  tf.keras.layers.Flatten(),\n",
    "  tf.keras.layers.Dense(512, activation=tf.nn.relu),\n",
    "  tf.keras.layers.Dropout(0.2),\n",
    "  tf.keras.layers.Dense(10, activation=tf.nn.softmax)\n",
    "])\n",
    "model.compile(optimizer='adam',\n",
    "              loss='sparse_categorical_crossentropy',\n",
    "              metrics=['accuracy'])\n",
    "\n",
    "model.fit(x_train, y_train, epochs=5)\n",
    "model.evaluate(x_test, y_test)"
   ]
  },
  {
   "cell_type": "code",
   "execution_count": null,
   "metadata": {
    "collapsed": true
   },
   "outputs": [],
   "source": []
  }
 ],
 "metadata": {
  "kernelspec": {
   "display_name": "Python 2",
   "language": "python",
   "name": "python2"
  },
  "language_info": {
   "codemirror_mode": {
    "name": "ipython",
    "version": 2
   },
   "file_extension": ".py",
   "mimetype": "text/x-python",
   "name": "python",
   "nbconvert_exporter": "python",
   "pygments_lexer": "ipython2",
   "version": "2.7.13"
  }
 },
 "nbformat": 4,
 "nbformat_minor": 2
}
