{
 "cells": [
  {
   "cell_type": "code",
   "execution_count": 1,
   "metadata": {},
   "outputs": [],
   "source": [
    "import tensorflow as tf\n",
    "import numpy as np"
   ]
  },
  {
   "cell_type": "code",
   "execution_count": 2,
   "metadata": {},
   "outputs": [],
   "source": [
    "graph = tf.Graph()"
   ]
  },
  {
   "cell_type": "code",
   "execution_count": 3,
   "metadata": {},
   "outputs": [
    {
     "name": "stdout",
     "output_type": "stream",
     "text": [
      "[[ 14.]]\n"
     ]
    }
   ],
   "source": [
    "with graph.as_default():\n",
    "    with tf.variable_scope(\"theta\", reuse=tf.AUTO_REUSE):\n",
    "        theta = tf.get_variable(\"theta\", shape=[1, 3], initializer=tf.ones_initializer())\n",
    "        theta = theta.assign(np.array([[1, 2, 3]]))\n",
    "    x = tf.placeholder(name=\"x\", shape=[1, 3], dtype=tf.float32)\n",
    "    y = tf.matmul(x, tf.transpose(theta))\n",
    "    with tf.Session() as sess:\n",
    "        sess.run(tf.global_variables_initializer())\n",
    "        res = sess.run(y, feed_dict={x: np.array([[1, 2, 3]])})\n",
    "        print(res)"
   ]
  },
  {
   "cell_type": "code",
   "execution_count": 4,
   "metadata": {},
   "outputs": [],
   "source": [
    "sess = tf.InteractiveSession()"
   ]
  },
  {
   "cell_type": "code",
   "execution_count": 78,
   "metadata": {
    "scrolled": false
   },
   "outputs": [
    {
     "name": "stdout",
     "output_type": "stream",
     "text": [
      "[[ 0.5         1.80277562]\n",
      " [ 1.80277562  0.5       ]\n",
      " [ 3.20156217  1.11803401]]\n",
      "[0 1 1]\n"
     ]
    }
   ],
   "source": [
    "# compute euclid distance\n",
    "X = tf.constant([[1., 1.], [2., 2.], [3., 3.]])\n",
    "centroids = tf.constant([[1., 0.5], [2., 2.5]])\n",
    "K = 2\n",
    "def get_distance(X, vector):\n",
    "    m, n = X.shape\n",
    "    distance = tf.reshape(tf.sqrt(tf.reduce_sum(tf.square(X - vector), axis=1)), [m, 1])\n",
    "    return distance\n",
    "\n",
    "distances = []\n",
    "for i in range(K):\n",
    "    d = get_distance(X, centroids[i])\n",
    "    distances.append(d)\n",
    "# assign centers to each row    \n",
    "distances = tf.concat(distances, axis=1) # concated by column, distances[:, 1] is the distance between X and center 1\n",
    "idx = tf.argmin(distances, axis=1) # get the index of minumum distances for each sample\n",
    "print(sess.run(distances))\n",
    "print(sess.run(idx))"
   ]
  },
  {
   "cell_type": "code",
   "execution_count": 76,
   "metadata": {},
   "outputs": [
    {
     "data": {
      "text/plain": [
       "[0, 1]"
      ]
     },
     "execution_count": 76,
     "metadata": {},
     "output_type": "execute_result"
    }
   ],
   "source": [
    "X = tf.constant([[1., 1.], [2., 2.], [3., 3.]])\n",
    "b = tf.reduce_sum(X, keep_dims=False, axis=1)\n",
    "b = tf.reshape(b, [3, 1])"
   ]
  },
  {
   "cell_type": "code",
   "execution_count": 68,
   "metadata": {},
   "outputs": [
    {
     "name": "stdout",
     "output_type": "stream",
     "text": [
      "[[ 3.  3.]\n",
      " [ 2.  2.]]\n"
     ]
    }
   ],
   "source": [
    "# random select centers\n",
    "K = 2\n",
    "X = tf.constant([[1., 0.], [0, 1], [2., 2.], [3., 3.]])\n",
    "rand_centers = tf.random_shuffle(X)[:K,]\n",
    "print(sess.run(rand_centers))"
   ]
  },
  {
   "cell_type": "code",
   "execution_count": 89,
   "metadata": {
    "scrolled": true
   },
   "outputs": [
    {
     "name": "stdout",
     "output_type": "stream",
     "text": [
      "[[ 0.5  0.5]\n",
      " [ 2.5  2.5]]\n"
     ]
    }
   ],
   "source": [
    "# Compute centroids\n",
    "X = tf.constant([[1., 0.], [0, 1], [2., 2.], [3., 3.]])\n",
    "idx = tf.constant([0, 0, 1, 1])\n",
    "K = 2\n",
    "m, n = X.shape\n",
    "with tf.variable_scope(\"centers\", reuse=tf.AUTO_REUSE):\n",
    "    centroids = tf.get_variable(\"centers\", shape=[K, n], initializer=tf.ones_initializer())\n",
    "    \n",
    "def compute_centroid(X, idx, k):\n",
    "    m, n = X.shape\n",
    "    cluster_no = tf.ones(idx.shape, dtype=tf.int32) * k\n",
    "    mask = tf.equal(idx, cluster_no)\n",
    "    center_group = tf.boolean_mask(X, mask)\n",
    "    center = tf.reshape(tf.reduce_mean(center_group, axis=0), [1, n])\n",
    "    return center\n",
    "sess.run(centroids.initializer)\n",
    "centers = []\n",
    "for i in range(K):\n",
    "    center = compute_centroid(X, idx, i)\n",
    "    centers.append(center)\n",
    "centers = tf.concat(centers, axis=0)\n",
    "op = centroids.assign(centers)\n",
    "print sess.run(op)\n"
   ]
  },
  {
   "cell_type": "code",
   "execution_count": 208,
   "metadata": {},
   "outputs": [],
   "source": [
    "sess = tf.InteractiveSession()\n",
    "with tf.variable_scope(\"v\", reuse=tf.AUTO_REUSE):\n",
    "    v = tf.get_variable(\"v\", shape=[2, 2], initializer=tf.zeros_initializer())\n",
    "sess.run(v.initializer)"
   ]
  },
  {
   "cell_type": "code",
   "execution_count": 215,
   "metadata": {},
   "outputs": [
    {
     "data": {
      "text/plain": [
       "<tf.Tensor 'strided_slice_102/_assign:0' shape=(2, 2) dtype=float32_ref>"
      ]
     },
     "execution_count": 215,
     "metadata": {},
     "output_type": "execute_result"
    }
   ],
   "source": []
  },
  {
   "cell_type": "code",
   "execution_count": 223,
   "metadata": {},
   "outputs": [
    {
     "data": {
      "text/plain": [
       "<tf.Tensor 'strided_slice_103:0' shape=(2,) dtype=float32>"
      ]
     },
     "execution_count": 223,
     "metadata": {},
     "output_type": "execute_result"
    }
   ],
   "source": [
    "v[1, :]"
   ]
  },
  {
   "cell_type": "code",
   "execution_count": 83,
   "metadata": {},
   "outputs": [
    {
     "data": {
      "text/plain": [
       "<tf.Tensor 'boolean_mask_38/Gather:0' shape=(?, 2) dtype=float32>"
      ]
     },
     "execution_count": 83,
     "metadata": {},
     "output_type": "execute_result"
    }
   ],
   "source": [
    "X = tf.constant([[1., 0.], [0, 1], [2., 2.], [3., 3.]])\n",
    "tf.boolean_mask(X, [False, True, True, False])"
   ]
  },
  {
   "cell_type": "code",
   "execution_count": 86,
   "metadata": {},
   "outputs": [],
   "source": [
    "n = tf.constant([1, 1]).shape"
   ]
  },
  {
   "cell_type": "code",
   "execution_count": 90,
   "metadata": {},
   "outputs": [
    {
     "data": {
      "text/plain": [
       "array([[2, 4]], dtype=int32)"
      ]
     },
     "execution_count": 90,
     "metadata": {},
     "output_type": "execute_result"
    }
   ],
   "source": [
    "sess.run(tf.reshape([1, 2], [1, 2]) * 2)"
   ]
  },
  {
   "cell_type": "code",
   "execution_count": null,
   "metadata": {},
   "outputs": [],
   "source": []
  }
 ],
 "metadata": {
  "kernelspec": {
   "display_name": "Python 2",
   "language": "python",
   "name": "python2"
  },
  "language_info": {
   "codemirror_mode": {
    "name": "ipython",
    "version": 2
   },
   "file_extension": ".py",
   "mimetype": "text/x-python",
   "name": "python",
   "nbconvert_exporter": "python",
   "pygments_lexer": "ipython2",
   "version": "2.7.12"
  }
 },
 "nbformat": 4,
 "nbformat_minor": 2
}
